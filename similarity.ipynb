{
 "cells": [
  {
   "cell_type": "markdown",
   "metadata": {},
   "source": [
    "# **Importing Necessary Libraries**"
   ]
  },
  {
   "cell_type": "code",
   "execution_count": 1,
   "metadata": {},
   "outputs": [],
   "source": [
    "import numpy as np"
   ]
  },
  {
   "cell_type": "code",
   "execution_count": 2,
   "metadata": {},
   "outputs": [],
   "source": [
    "from utils.utils import load_json, write_json\n",
    "from utils.similarity_score import cosine, match, manhattan_distance, inverse_manhattan_distance"
   ]
  },
  {
   "cell_type": "code",
   "execution_count": 3,
   "metadata": {},
   "outputs": [],
   "source": [
    "songs = load_json('data/vector_data.json')"
   ]
  },
  {
   "cell_type": "markdown",
   "metadata": {},
   "source": [
    "# **Creating the Similarity Function**"
   ]
  },
  {
   "cell_type": "markdown",
   "metadata": {},
   "source": [
    "1. in_movie - `match`\n",
    "2. lyrics -\n",
    "3. language - `cosine`\n",
    "4. topics -\n",
    "5. sentiment - \n",
    "6. artist - `match`\n",
    "7. album_type - `match`\n",
    "8. album_name - `match`\n",
    "9. album_artist - `match percentage`\n",
    "10. popularity - `inverse manhattan distance`\n",
    "11. age - `inverse manhattan distance`\n",
    "12. explicit - `match`\n",
    "13. duration - `inverse manhattan distance`\n",
    "14. listener_play_ratio - `manhattan distance` \n",
    "15. genre - `cosine`\n",
    "16. acousticness - `manhattan distance`\n",
    "17. danceability - `manhattan distance`\n",
    "18. energy - `manhattan distance`\n",
    "19. instrumentalness - `manhattan distance`\n",
    "20. key - `match`\n",
    "21. liveness - `manhattan distance`\n",
    "22. loudness - `inverse manhattan distance`\n",
    "23. mode - `match`\n",
    "24. speechiness - `manhattan distance`\n",
    "25. tempo - `inverse manhattan distance`\n",
    "26. valence - `manhattan distance`\n",
    "27. num_sections - `scaled manhattan distance`\n",
    "28. num_segments - `scaled manhattan distance`\n",
    "29. artist_vector - `cosine`"
   ]
  },
  {
   "cell_type": "code",
   "execution_count": 4,
   "metadata": {},
   "outputs": [],
   "source": [
    "function_map = {\n",
    "    'in_movie': match,\n",
    "    'lyrics': cosine,\n",
    "    'language': cosine,\n",
    "    'topics': cosine,\n",
    "    'sentiment': cosine,\n",
    "    'title': match,\n",
    "    'artist': match,\n",
    "    'album_type': match,\n",
    "    'album_name': match,\n",
    "    'album_artist': match,\n",
    "    'popularity': inverse_manhattan_distance,\n",
    "    'age': inverse_manhattan_distance,\n",
    "    'explicit': match,\n",
    "    'duration': inverse_manhattan_distance,\n",
    "    'listener_play_ratio': manhattan_distance,\n",
    "    'genre': cosine,\n",
    "    'acousticness': manhattan_distance,\n",
    "    'danceability': manhattan_distance,\n",
    "    'energy': manhattan_distance,\n",
    "    'instrumentalness': manhattan_distance,\n",
    "    'key': match,\n",
    "    'liveness': manhattan_distance,\n",
    "    'loudness': inverse_manhattan_distance,\n",
    "    'mode': match,\n",
    "    'speechiness': manhattan_distance,\n",
    "    'tempo': inverse_manhattan_distance,\n",
    "    'valence': manhattan_distance,\n",
    "    'num_sections': cosine,\n",
    "    'num_segments': cosine,\n",
    "    'artist_vector': cosine\n",
    "}"
   ]
  },
  {
   "cell_type": "code",
   "execution_count": 5,
   "metadata": {},
   "outputs": [],
   "source": [
    "scale = {\n",
    "    'tempo': 100,\n",
    "    'loudness': 10,\n",
    "    'duration': 1e5,\n",
    "    'age': 25,\n",
    "    'popularity': 100,\n",
    "}"
   ]
  },
  {
   "cell_type": "code",
   "execution_count": 6,
   "metadata": {},
   "outputs": [],
   "source": [
    "def similarity(song1, song2):\n",
    "    global function_map, scale\n",
    "    scores = []\n",
    "    features = set(song1.keys()).intersection(song2.keys())\n",
    "    \n",
    "    for feature in features:\n",
    "        func = function_map[feature]\n",
    "\n",
    "        if feature in scale:\n",
    "            score = func(song1[feature], song2[feature], scale=scale[feature])\n",
    "        else:\n",
    "            score = func(song1[feature], song2[feature])\n",
    "        \n",
    "        print(f'{feature}: {score}')\n",
    "        scores.append(score)\n",
    "    \n",
    "    print()\n",
    "    sim = sum(scores) / len(scores)\n",
    "    \n",
    "    return sim"
   ]
  },
  {
   "cell_type": "code",
   "execution_count": 20,
   "metadata": {},
   "outputs": [
    {
     "name": "stdout",
     "output_type": "stream",
     "text": [
      "genre: 1.0\n",
      "album_name: 0\n",
      "listener_play_ratio: 0.9999915392733356\n",
      "album_artist: 0.5\n",
      "lyrics: 1.0\n",
      "title: 1\n",
      "topics: 1.0\n",
      "duration: 1.0\n",
      "sentiment: 0.9999999999999999\n",
      "language: 1.0\n",
      "in_movie: 1\n",
      "artist_vector: 0.9999999999574619\n",
      "artist: 1\n",
      "explicit: 1\n",
      "album_type: 0\n",
      "age: 0.9259259259259258\n",
      "popularity: 0.9615384615384615\n",
      "\n"
     ]
    },
    {
     "data": {
      "text/plain": [
       "0.8463209368644226"
      ]
     },
     "execution_count": 20,
     "metadata": {},
     "output_type": "execute_result"
    }
   ],
   "source": [
    "similarity(songs[1966], songs[6829])"
   ]
  }
 ],
 "metadata": {
  "kernelspec": {
   "display_name": "venv",
   "language": "python",
   "name": "python3"
  },
  "language_info": {
   "codemirror_mode": {
    "name": "ipython",
    "version": 3
   },
   "file_extension": ".py",
   "mimetype": "text/x-python",
   "name": "python",
   "nbconvert_exporter": "python",
   "pygments_lexer": "ipython3",
   "version": "3.10.2"
  }
 },
 "nbformat": 4,
 "nbformat_minor": 2
}
