{
 "cells": [
  {
   "cell_type": "markdown",
   "metadata": {},
   "source": [
    "# **Importing Necessary Libraries**"
   ]
  },
  {
   "cell_type": "code",
   "execution_count": 1,
   "metadata": {},
   "outputs": [],
   "source": [
    "import numpy as np"
   ]
  },
  {
   "cell_type": "code",
   "execution_count": 2,
   "metadata": {},
   "outputs": [],
   "source": [
    "from utils.utils import load_json, write_json\n",
    "from utils.similarity_score import cosine, match, manhattan_distance"
   ]
  },
  {
   "cell_type": "code",
   "execution_count": 3,
   "metadata": {},
   "outputs": [],
   "source": [
    "songs = load_json('data/vector_data.json')"
   ]
  },
  {
   "cell_type": "markdown",
   "metadata": {},
   "source": [
    "# **Creating the Similarity Function**"
   ]
  },
  {
   "cell_type": "markdown",
   "metadata": {},
   "source": [
    "1. in_movie - `match`\n",
    "2. lyrics -\n",
    "3. language - `cosine`\n",
    "4. topics -\n",
    "5. sentiment - \n",
    "6. artist - `match`\n",
    "7. album_type - `match`\n",
    "8. album_name - `match`\n",
    "9. album_artist - `match percentage`\n",
    "10. popularity - \n",
    "11. age - `scaled manhattan distance`\n",
    "12. explicit - `match`\n",
    "13. duration - `scaled manhattan distance`\n",
    "14. listener_play_ratio - \n",
    "15. genre - `cosine`\n",
    "16. acousticness - `manhattan distance`\n",
    "17. danceability - `manhattan distance`\n",
    "18. energy - `manhattan distance`\n",
    "19. instrumentalness - `manhattan distance`\n",
    "20. key - `match`\n",
    "21. liveness - `manhattan distance`\n",
    "22. loudness - `scaled manhattan distance`\n",
    "23. mode - `match`\n",
    "24. speechiness - `manhattan distance`\n",
    "25. tempo - `scaled manhattan distance`\n",
    "26. valence - `manhattan distance`\n",
    "27. num_sections - `scaled manhattan distance`\n",
    "28. num_segments - `scaled manhattan distance`\n",
    "29. artist_vector - `cosine`"
   ]
  },
  {
   "cell_type": "code",
   "execution_count": 4,
   "metadata": {},
   "outputs": [
    {
     "data": {
      "text/plain": [
       "[1.600017355803449,\n",
       " 0.05191584728880194,\n",
       " -1.2059578394556674,\n",
       " 0.5469378656502659,\n",
       " 2.343592311540182,\n",
       " -2.1471144160397957,\n",
       " -1.4471364167561456,\n",
       " -3.283849526369881,\n",
       " 2.202246195912256,\n",
       " 1.339348622426536]"
      ]
     },
     "execution_count": 4,
     "metadata": {},
     "output_type": "execute_result"
    }
   ],
   "source": [
    "songs[0]['sentiment']"
   ]
  },
  {
   "cell_type": "code",
   "execution_count": 48,
   "metadata": {},
   "outputs": [
    {
     "data": {
      "text/plain": [
       "180000"
      ]
     },
     "execution_count": 48,
     "metadata": {},
     "output_type": "execute_result"
    }
   ],
   "source": [
    "songs[3]['duration']"
   ]
  },
  {
   "cell_type": "code",
   "execution_count": 16,
   "metadata": {},
   "outputs": [
    {
     "data": {
      "text/plain": [
       "0.754"
      ]
     },
     "execution_count": 16,
     "metadata": {},
     "output_type": "execute_result"
    }
   ],
   "source": [
    "manhattan_distance(songs[4]['acousticness'], songs[5]['acousticness'])"
   ]
  },
  {
   "cell_type": "code",
   "execution_count": 16,
   "metadata": {},
   "outputs": [
    {
     "data": {
      "text/plain": [
       "0"
      ]
     },
     "execution_count": 16,
     "metadata": {},
     "output_type": "execute_result"
    }
   ],
   "source": [
    "songs[1]['popularity']"
   ]
  },
  {
   "cell_type": "code",
   "execution_count": 4,
   "metadata": {},
   "outputs": [],
   "source": [
    "function_map = {\n",
    "    'in_movie': match,\n",
    "    'lyrics': cosine,\n",
    "    'language': cosine,\n",
    "    'topics': cosine,\n",
    "    'sentiment': cosine,\n",
    "    'title': match,\n",
    "    'artist': match,\n",
    "    'album_type': match,\n",
    "    'album_name': match,\n",
    "    'album_artist': match,\n",
    "    'popularity': cosine,\n",
    "    'age': cosine,\n",
    "    'explicit': match,\n",
    "    'duration': cosine,\n",
    "    'listener_play_ratio': cosine,\n",
    "    'genre': cosine,\n",
    "    'acousticness': manhattan_distance,\n",
    "    'danceability': manhattan_distance,\n",
    "    'energy': manhattan_distance,\n",
    "    'instrumentalness': manhattan_distance,\n",
    "    'key': match,\n",
    "    'liveness': manhattan_distance,\n",
    "    'loudness': cosine,\n",
    "    'mode': match,\n",
    "    'speechiness': manhattan_distance,\n",
    "    'tempo': cosine,\n",
    "    'valence': manhattan_distance,\n",
    "    'num_sections': cosine,\n",
    "    'num_segments': cosine,\n",
    "    'artist_vector': cosine\n",
    "}"
   ]
  },
  {
   "cell_type": "code",
   "execution_count": 23,
   "metadata": {},
   "outputs": [],
   "source": [
    "def similarity(song1, song2):\n",
    "    global function_map\n",
    "    scores = []\n",
    "    features = set(song1.keys()).intersection(song2.keys())\n",
    "\n",
    "    for feature in features:\n",
    "        func = function_map[feature]\n",
    "        score = func(song1[feature], song2[feature])\n",
    "        \n",
    "        print(f'{feature}: {score}')\n",
    "        scores.append(score)\n",
    "    \n",
    "    print()\n",
    "    sim = sum(scores) / len(scores)\n",
    "    \n",
    "    return sim"
   ]
  },
  {
   "cell_type": "code",
   "execution_count": 26,
   "metadata": {},
   "outputs": [
    {
     "name": "stdout",
     "output_type": "stream",
     "text": [
      "in_movie: 1\n",
      "tempo: 1.0\n",
      "valence: 0.54\n",
      "acousticness: 0.99895\n",
      "artist_vector: 0.6984161796257901\n",
      "duration: 0.5185014242152466\n",
      "instrumentalness: 1\n",
      "artist: 0\n",
      "album_name: 0\n",
      "album_artist: 0.0\n",
      "mode: 1\n",
      "loudness: 1.0\n",
      "num_sections: 1.0\n",
      "title: 0\n",
      "genre: 0.6166357546558455\n",
      "album_type: 1\n",
      "lyrics: 0.9995553103700101\n",
      "popularity: 1.0\n",
      "speechiness: 0.9937\n",
      "danceability: 0.65\n",
      "sentiment: 0.7920489864737359\n",
      "energy: 0.849\n",
      "key: 0\n",
      "listener_play_ratio: 1.0\n",
      "liveness: 0.9675\n",
      "age: 1.0\n",
      "explicit: 1\n",
      "topics: 0.9253543310044039\n",
      "language: 1.0\n",
      "num_segments: 1.0\n",
      "\n"
     ]
    },
    {
     "data": {
      "text/plain": [
       "0.7516553995448344"
      ]
     },
     "execution_count": 26,
     "metadata": {},
     "output_type": "execute_result"
    }
   ],
   "source": [
    "similarity(songs[0], songs[3])"
   ]
  },
  {
   "cell_type": "code",
   "execution_count": null,
   "metadata": {},
   "outputs": [],
   "source": []
  },
  {
   "cell_type": "code",
   "execution_count": null,
   "metadata": {},
   "outputs": [],
   "source": []
  }
 ],
 "metadata": {
  "kernelspec": {
   "display_name": "venv",
   "language": "python",
   "name": "python3"
  },
  "language_info": {
   "codemirror_mode": {
    "name": "ipython",
    "version": 3
   },
   "file_extension": ".py",
   "mimetype": "text/x-python",
   "name": "python",
   "nbconvert_exporter": "python",
   "pygments_lexer": "ipython3",
   "version": "3.10.2"
  }
 },
 "nbformat": 4,
 "nbformat_minor": 2
}
